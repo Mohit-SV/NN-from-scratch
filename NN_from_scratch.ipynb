{
 "cells": [
  {
   "cell_type": "markdown",
   "metadata": {},
   "source": [
    "### Submitted by:\n",
    "Venkat Mohit Sornapudi - 2721697"
   ]
  },
  {
   "cell_type": "code",
   "execution_count": 1,
   "metadata": {},
   "outputs": [],
   "source": [
    "import math\n",
    "import numpy as np\n",
    "import matplotlib.pyplot as plt\n",
    "import statistics"
   ]
  },
  {
   "cell_type": "code",
   "execution_count": 2,
   "metadata": {},
   "outputs": [],
   "source": [
    "def sigmoid(x):\n",
    "    sig = 1 / (1 + np.exp(-x))\n",
    "    return sig"
   ]
  },
  {
   "cell_type": "markdown",
   "metadata": {},
   "source": [
    "# Part 2: Scalar backpropagation"
   ]
  },
  {
   "cell_type": "markdown",
   "metadata": {},
   "source": [
    "## Question 3."
   ]
  },
  {
   "cell_type": "markdown",
   "metadata": {},
   "source": [
    "![alt text](nn.png \"nn\")"
   ]
  },
  {
   "cell_type": "code",
   "execution_count": 3,
   "metadata": {},
   "outputs": [],
   "source": [
    "x = [1,-1]\n",
    "a = [0]*3\n",
    "w = [[1., 1., 1.], [-1., -1., -1.]]\n",
    "k = [0]*3\n",
    "h = [0]*3\n",
    "b = [0]*2\n",
    "v = [[1,1],[-1,-1],[-1,-1]]\n",
    "o = [0]*2\n",
    "y = [0]*2\n",
    "sum_o = 0\n",
    "c = 0\n",
    "\n",
    "for j in range(3):\n",
    "    for i in range(2):\n",
    "        k[j] += w[i][j] * x[i]\n",
    "    k[j] += a[j]\n",
    "for i in range(3):\n",
    "    h[i] = sigmoid(k[i])\n",
    "for j in range(2):\n",
    "    for i in range(3):\n",
    "        o[j] += v[i][j] * h[i]\n",
    "    o[j] += b[j]\n",
    "for i in range(2):\n",
    "    sum_o += math.exp(o[i])\n",
    "for i in range(2):\n",
    "    y[i] += math.exp(o[i])/sum_o\n",
    "loss = -math.log(y[c])"
   ]
  },
  {
   "cell_type": "code",
   "execution_count": 4,
   "metadata": {},
   "outputs": [],
   "source": [
    "grad_a = [0]*3\n",
    "grad_w = [[0]*3]*2\n",
    "grad_k = [0]*3\n",
    "grad_h = [0]*3\n",
    "grad_b = [0]*2\n",
    "grad_v = [[0]*2]*3\n",
    "grad_o = [0]*2\n",
    "grad_y = [0]*2\n",
    "\n",
    "for i in range(2):\n",
    "    if i==c:\n",
    "        grad_y[i] = -1/y[c]\n",
    "    else:\n",
    "        grad_y[i] = 0\n",
    "for j in range(2):\n",
    "    if j==c:\n",
    "        grad_o[j] = y[i] - 1\n",
    "    else:\n",
    "        grad_o[j] = y[i]\n",
    "for j in range(2):\n",
    "    for i in range(3):\n",
    "        grad_v[i][j] = grad_o[j] * h[i]\n",
    "        grad_h[i] += grad_o[j] * v[i][j]\n",
    "    grad_b[j] = grad_o[j]\n",
    "for i in range(3):\n",
    "    grad_k[i] = grad_h[i] * h[i] * (1-h[i])\n",
    "for j in range(3):\n",
    "    for i in range(2):\n",
    "        grad_w[i][j] = grad_k[j] * x[i]\n",
    "    grad_a[j] = grad_k[j]"
   ]
  },
  {
   "cell_type": "code",
   "execution_count": 5,
   "metadata": {},
   "outputs": [
    {
     "data": {
      "text/plain": [
       "[[-0.0, -0.0, -0.0], [-0.0, -0.0, -0.0]]"
      ]
     },
     "execution_count": 5,
     "metadata": {},
     "output_type": "execute_result"
    }
   ],
   "source": [
    "grad_w"
   ]
  },
  {
   "cell_type": "code",
   "execution_count": 6,
   "metadata": {},
   "outputs": [
    {
     "data": {
      "text/plain": [
       "[0.0, 0.0, 0.0]"
      ]
     },
     "execution_count": 6,
     "metadata": {},
     "output_type": "execute_result"
    }
   ],
   "source": [
    "grad_a"
   ]
  },
  {
   "cell_type": "code",
   "execution_count": 7,
   "metadata": {},
   "outputs": [
    {
     "data": {
      "text/plain": [
       "[[-0.44039853898894116, 0.44039853898894116],\n",
       " [-0.44039853898894116, 0.44039853898894116],\n",
       " [-0.44039853898894116, 0.44039853898894116]]"
      ]
     },
     "execution_count": 7,
     "metadata": {},
     "output_type": "execute_result"
    }
   ],
   "source": [
    "grad_v"
   ]
  },
  {
   "cell_type": "code",
   "execution_count": 8,
   "metadata": {},
   "outputs": [
    {
     "data": {
      "text/plain": [
       "[-0.5, 0.5]"
      ]
     },
     "execution_count": 8,
     "metadata": {},
     "output_type": "execute_result"
    }
   ],
   "source": [
    "grad_b"
   ]
  },
  {
   "cell_type": "markdown",
   "metadata": {},
   "source": [
    "# Data loading"
   ]
  },
  {
   "cell_type": "code",
   "execution_count": 9,
   "metadata": {},
   "outputs": [],
   "source": [
    "from urllib import request\n",
    "import gzip\n",
    "import pickle\n",
    "import os\n",
    "\n",
    "def load_synth(num_train=60_000, num_val=10_000, seed=0):\n",
    "    \"\"\"\n",
    "    Load some very basic synthetic data that should be easy to classify. Two features, so that we can plot the\n",
    "    decision boundary (which is an ellipse in the feature space).\n",
    "    :param num_train: Number of training instances\n",
    "    :param num_val: Number of test/validation instances\n",
    "    :param num_features: Number of features per instance\n",
    "    :return: Two tuples and an integer: (xtrain, ytrain), (xval, yval), num_cls. The first contains a matrix of training\n",
    "     data with 2 features as a numpy floating point array, and the corresponding classification labels as a numpy\n",
    "     integer array. The second contains the test/validation data in the same format. The last integer contains the\n",
    "     number of classes (this is always 2 for this function).\n",
    "    \"\"\"\n",
    "    np.random.seed(seed)\n",
    "\n",
    "    THRESHOLD = 0.6\n",
    "    quad = np.asarray([[1, -0.05], [1, .4]])\n",
    "\n",
    "    ntotal = num_train + num_val\n",
    "\n",
    "    x = np.random.randn(ntotal, 2)\n",
    "\n",
    "    # compute the quadratic form\n",
    "    q = np.einsum('bf, fk, bk -> b', x, quad, x)\n",
    "    y = (q > THRESHOLD).astype(np.int)\n",
    "\n",
    "    return (x[:num_train, :], y[:num_train]), (x[num_train:, :], y[num_train:]), 2\n",
    "\n",
    "def load_mnist(final=False, flatten=True):\n",
    "    \"\"\"\n",
    "    Load the MNIST data.\n",
    "    :param final: If true, return the canonical test/train split. If false, split some validation data from the training\n",
    "       data and keep the test data hidden.\n",
    "    :param flatten: If true, each instance is flattened into a vector, so that the data is returns as a matrix with 768\n",
    "        columns. If false, the data is returned as a 3-tensor preserving each image as a matrix.\n",
    "    :return: Two tuples and an integer: (xtrain, ytrain), (xval, yval), num_cls. The first contains a matrix of training\n",
    "     data and the corresponding classification labels as a numpy integer array. The second contains the test/validation\n",
    "     data in the same format. The last integer contains the number of classes (this is always 2 for this function).\n",
    "     \"\"\"\n",
    "\n",
    "    if not os.path.isfile('mnist.pkl'):\n",
    "        init()\n",
    "\n",
    "    xtrain, ytrain, xtest, ytest = load()\n",
    "    xtl, xsl = xtrain.shape[0], xtest.shape[0]\n",
    "\n",
    "    if flatten:\n",
    "        xtrain = xtrain.reshape(xtl, -1)\n",
    "        xtest  = xtest.reshape(xsl, -1)\n",
    "\n",
    "    if not final: # return the flattened images\n",
    "        return (xtrain[:-5000], ytrain[:-5000]), (xtrain[-5000:], ytrain[-5000:]), 10\n",
    "\n",
    "    return (xtrain, ytrain), (xtest, ytest), 10\n",
    "\n",
    "# Numpy-only MNIST loader. Courtesy of Hyeonseok Jung\n",
    "# https://github.com/hsjeong5/MNIST-for-Numpy\n",
    "\n",
    "filename = [\n",
    "[\"training_images\",\"train-images-idx3-ubyte.gz\"],\n",
    "[\"test_images\",\"t10k-images-idx3-ubyte.gz\"],\n",
    "[\"training_labels\",\"train-labels-idx1-ubyte.gz\"],\n",
    "[\"test_labels\",\"t10k-labels-idx1-ubyte.gz\"]\n",
    "]\n",
    "\n",
    "def download_mnist():\n",
    "    base_url = \"http://yann.lecun.com/exdb/mnist/\"\n",
    "    for name in filename:\n",
    "        print(\"Downloading \"+name[1]+\"...\")\n",
    "        request.urlretrieve(base_url+name[1], name[1])\n",
    "    print(\"Download complete.\")\n",
    "\n",
    "def save_mnist():\n",
    "    mnist = {}\n",
    "    for name in filename[:2]:\n",
    "        with gzip.open(name[1], 'rb') as f:\n",
    "            mnist[name[0]] = np.frombuffer(f.read(), np.uint8, offset=16).reshape(-1,28*28)\n",
    "    for name in filename[-2:]:\n",
    "        with gzip.open(name[1], 'rb') as f:\n",
    "            mnist[name[0]] = np.frombuffer(f.read(), np.uint8, offset=8)\n",
    "    with open(\"mnist.pkl\", 'wb') as f:\n",
    "        pickle.dump(mnist,f)\n",
    "    print(\"Save complete.\")\n",
    "\n",
    "def init():\n",
    "    download_mnist()\n",
    "    save_mnist()\n",
    "\n",
    "def load():\n",
    "    with open(\"mnist.pkl\",'rb') as f:\n",
    "        mnist = pickle.load(f)\n",
    "    return mnist[\"training_images\"], mnist[\"training_labels\"], mnist[\"test_images\"], mnist[\"test_labels\"]"
   ]
  },
  {
   "cell_type": "markdown",
   "metadata": {},
   "source": [
    "# Question 4."
   ]
  },
  {
   "cell_type": "code",
   "execution_count": 10,
   "metadata": {},
   "outputs": [],
   "source": [
    "(xtrain, ytrain), (xval, yval), num_cls = load_synth()"
   ]
  },
  {
   "cell_type": "code",
   "execution_count": 11,
   "metadata": {},
   "outputs": [],
   "source": [
    "loss = []\n",
    "a = [0]*3\n",
    "w = [[1., 1., 1.], [-1., -1., -1.]]\n",
    "k = [0]*3\n",
    "h = [0]*3\n",
    "b = [0]*2\n",
    "v = [[1,1],[-1,-1],[-1,-1]]\n",
    "o = [0]*2\n",
    "y = [0]*2\n",
    "sum_o = 0\n",
    "grad_a = [0]*3\n",
    "grad_w = [[0]*3]*2\n",
    "grad_k = [0]*3\n",
    "grad_h = [0]*3\n",
    "grad_b = [0]*2\n",
    "grad_v = [[0]*2]*3\n",
    "grad_o = [0]*2\n",
    "grad_y = [0]*2"
   ]
  },
  {
   "cell_type": "code",
   "execution_count": 12,
   "metadata": {},
   "outputs": [
    {
     "name": "stderr",
     "output_type": "stream",
     "text": [
      "C:\\Users\\Admin\\Anaconda3\\envs\\tf1\\lib\\site-packages\\ipykernel_launcher.py:2: RuntimeWarning: overflow encountered in exp\n",
      "  \n"
     ]
    }
   ],
   "source": [
    "for i in range(ytrain.size):\n",
    "    x = list(xtrain[i])\n",
    "    c = ytrain[i]\n",
    "\n",
    "    #forward\n",
    "    for j in range(3):\n",
    "        for i in range(2):\n",
    "            k[j] += w[i][j] * x[i]\n",
    "        k[j] += a[j]\n",
    "    for i in range(3):\n",
    "        h[i] = sigmoid(k[i])\n",
    "    for j in range(2):\n",
    "        for i in range(3):\n",
    "            o[j] += v[i][j] * h[i]\n",
    "        o[j] += b[j]\n",
    "    for i in range(2):\n",
    "        sum_o += np.exp(round(o[i], 2))\n",
    "    for i in range(2):\n",
    "        y[i] += np.exp(o[i])/sum_o\n",
    "    loss.append(-math.log(y[c]))\n",
    "    \n",
    "    #backward\n",
    "    for j in range(2):\n",
    "        if j==c:\n",
    "            grad_o[j] = y[i] - 1\n",
    "        else:\n",
    "            grad_o[j] = y[i]\n",
    "    for j in range(2):\n",
    "        for i in range(3):\n",
    "            grad_v[i][j] = grad_o[j] * h[i]\n",
    "            grad_h[i] += grad_o[j] * v[i][j]\n",
    "        grad_b[j] = grad_o[j]\n",
    "    for i in range(3):\n",
    "        grad_k[i] = grad_h[i] * h[i] * (1-h[i])\n",
    "    for j in range(3):\n",
    "        for i in range(2):\n",
    "            grad_w[i][j] = grad_k[j] * x[i]\n",
    "        grad_a[j] = grad_k[j]\n",
    "        \n",
    "    # weights update\n",
    "    for j in range(3):\n",
    "        for i in range(2):\n",
    "            w[i][j] = w[i][j] - 0.01* grad_w[i][j]\n",
    "        a[j] = a[j] - 0.01 * grad_a[j]\n",
    "    for j in range(2):\n",
    "        for i in range(3):\n",
    "            v[i][j] = v[i][j] - 0.01* grad_v[i][j]\n",
    "        b[j] = b[j] - 0.01 * grad_b[j]"
   ]
  },
  {
   "cell_type": "code",
   "execution_count": 13,
   "metadata": {},
   "outputs": [
    {
     "data": {
      "image/png": "[encoded data removed]",
      "text/plain": [
       "<Figure size 432x288 with 1 Axes>"
      ]
     },
     "metadata": {
      "needs_background": "light"
     },
     "output_type": "display_data"
    }
   ],
   "source": [
    "plt.plot(range(len(loss)), loss)\n",
    "plt.xlabel('samples')\n",
    "plt.ylabel('Loss') \n",
    "plt.title('Training loss')\n",
    "plt.show()"
   ]
  },
  {
   "cell_type": "markdown",
   "metadata": {},
   "source": [
    "# Part 3: Tensor backpropagation"
   ]
  },
  {
   "cell_type": "markdown",
   "metadata": {},
   "source": [
    "## Question 5."
   ]
  },
  {
   "cell_type": "code",
   "execution_count": 52,
   "metadata": {},
   "outputs": [],
   "source": [
    "(xtrain, ytrain), (xval, yval), num_cls = load_mnist()"
   ]
  },
  {
   "cell_type": "code",
   "execution_count": 53,
   "metadata": {},
   "outputs": [
    {
     "data": {
      "text/plain": [
       "((55000, 784), (55000,))"
      ]
     },
     "execution_count": 53,
     "metadata": {},
     "output_type": "execute_result"
    }
   ],
   "source": [
    "xtrain.shape, ytrain.shape"
   ]
  },
  {
   "cell_type": "code",
   "execution_count": 54,
   "metadata": {},
   "outputs": [],
   "source": [
    "xtrain_norm = (xtrain/np.max(xtrain))"
   ]
  },
  {
   "cell_type": "code",
   "execution_count": 55,
   "metadata": {},
   "outputs": [],
   "source": [
    "xval_norm = (xval/np.max(xtrain))"
   ]
  },
  {
   "cell_type": "code",
   "execution_count": 18,
   "metadata": {},
   "outputs": [
    {
     "data": {
      "image/png": "[encoded data removed]",
      "text/plain": [
       "<Figure size 432x288 with 1 Axes>"
      ]
     },
     "metadata": {
      "needs_background": "light"
     },
     "output_type": "display_data"
    }
   ],
   "source": [
    "img = xtrain_norm[10].reshape(28,28)\n",
    "plt.imshow(img,cmap='gray')\n",
    "plt.show()"
   ]
  },
  {
   "cell_type": "code",
   "execution_count": 20,
   "metadata": {},
   "outputs": [],
   "source": [
    "def CEloss(x,y):\n",
    "    y_onehot = np.zeros_like(x)\n",
    "    y_onehot[y] = 1\n",
    "    loss = -math.log(np.dot(x,y_onehot))\n",
    "    grad_loss = x - y_onehot # derviative for softmax\n",
    "    return loss, grad_loss"
   ]
  },
  {
   "cell_type": "code",
   "execution_count": 58,
   "metadata": {},
   "outputs": [],
   "source": [
    "def forward_pass(w,v,x):\n",
    "    def softmax(x):\n",
    "        \"\"\"Compute softmax values for each sets of scores in x.\"\"\"\n",
    "        e_x = np.exp(x)\n",
    "        return e_x / e_x.sum()\n",
    "\n",
    "    k = w.dot(x) # k=wx+b\n",
    "    h = sigmoid(k) # layer 1 out\n",
    "    h = np.append(h, 1) \n",
    "    o = v.dot(h) # o=vh+b\n",
    "    y = softmax(o) # layer 2 out\n",
    "    return y,h,k"
   ]
  },
  {
   "cell_type": "code",
   "execution_count": 22,
   "metadata": {},
   "outputs": [],
   "source": [
    "def backward_pass(grad_loss,h,v,k,x):\n",
    "    grad_o = grad_loss.reshape(-1,1)\n",
    "    h = h.reshape(1,-1)\n",
    "    grad_v = np.matmul(grad_o, h) # layer 2 grad weights\n",
    "    grad_h = np.dot(grad_o.T,v)\n",
    "    grad_h = grad_h[:,:-1] \n",
    "    grad_k = grad_h*sigmoid(k)*(1 - sigmoid(k)) \n",
    "    grad_k = grad_k.reshape(-1,1)\n",
    "    x = x.reshape(1,-1)\n",
    "    grad_w = np.matmul(grad_k,x) # layer 1 gard weights\n",
    "    return grad_w, grad_v"
   ]
  },
  {
   "cell_type": "code",
   "execution_count": 59,
   "metadata": {},
   "outputs": [],
   "source": [
    "def run_SGD(learning_rate=0.001):\n",
    "\n",
    "    # Xavier’s initialization\n",
    "    w = np.random.rand(300,xtrain[0].size+1)*np.sqrt(1/(728+300))\n",
    "    v = np.random.rand(num_cls,300+1)*np.sqrt(1/(300+10))\n",
    "\n",
    "    epoch_train_loss = np.zeros((5))\n",
    "    epoch_val_loss = np.zeros((5))\n",
    "    train_accuracy = np.zeros((5))\n",
    "    val_accuracy = np.zeros((5))\n",
    "\n",
    "    for epoch in np.arange(5): \n",
    "        train_loss = []\n",
    "        val_loss = []\n",
    "        y_train_pred = []\n",
    "        y_val_pred = []\n",
    "\n",
    "        for i in np.arange(xtrain_norm.shape[0]):\n",
    "            x = xtrain_norm[i]\n",
    "            digit = ytrain[i]\n",
    "            x = np.append(x, 1)\n",
    "\n",
    "            y,h,k = forward_pass(w,v,x)\n",
    "            y_train_pred.append(np.argmax(y))\n",
    "\n",
    "            #loss\n",
    "            loss_sample, grad_loss = CEloss(y, digit)\n",
    "            train_loss.append(loss_sample) \n",
    "\n",
    "            grad_w, grad_v = backward_pass(grad_loss,h,v,k,x)\n",
    "\n",
    "            #weights update\n",
    "            w = w - learning_rate*grad_w\n",
    "            v = v - learning_rate*grad_v\n",
    "\n",
    "        for i in np.arange(xval_norm.shape[0]):\n",
    "            x = xval_norm[i]\n",
    "            digit = yval[i]\n",
    "            x = np.append(x, 1)\n",
    "            y,h,k = forward_pass(w,v,x)\n",
    "            y_val_pred.append(np.argmax(y))\n",
    "            loss_sample, grad_loss = CEloss(y, digit)\n",
    "            val_loss.append(loss_sample)\n",
    "\n",
    "        ep_loss = np.sum(train_loss)/(xtrain_norm.shape[0])\n",
    "        epoch_train_loss[epoch] = ep_loss\n",
    "        ep_loss = np.sum(val_loss)/(xval_norm.shape[0])\n",
    "        epoch_val_loss[epoch] = ep_loss\n",
    "\n",
    "        acc = (np.array(y_train_pred) == ytrain).mean()\n",
    "        train_accuracy[epoch] = acc \n",
    "        acc = (np.array(y_val_pred) == yval).mean()\n",
    "        val_accuracy[epoch] = acc  \n",
    "    \n",
    "    return epoch_train_loss, epoch_val_loss, train_accuracy, val_accuracy"
   ]
  },
  {
   "cell_type": "code",
   "execution_count": 24,
   "metadata": {},
   "outputs": [
    {
     "name": "stdout",
     "output_type": "stream",
     "text": [
      "Epoch 0 |  Training Loss: 1.8347528022263917  Training ACC: 0.37427272727272726\n",
      "         |  Validation Loss: 0  Validation ACC: 0.8529712360667596\n",
      "\n",
      "Epoch 1 |  Training Loss: 0.6226673649865966  Training ACC: 0.8331272727272727\n",
      "         |  Validation Loss: 1  Validation ACC: 0.3895404306463048\n",
      "\n",
      "Epoch 2 |  Training Loss: 0.4174274986437919  Training ACC: 0.8852727272727273\n",
      "         |  Validation Loss: 2  Validation ACC: 0.3033353966464058\n",
      "\n",
      "Epoch 3 |  Training Loss: 0.35913968572683913  Training ACC: 0.8994363636363636\n",
      "         |  Validation Loss: 3  Validation ACC: 0.27066627472547505\n",
      "\n",
      "Epoch 4 |  Training Loss: 0.3305666631410923  Training ACC: 0.9057272727272727\n",
      "         |  Validation Loss: 4  Validation ACC: 0.25294625990673425\n",
      "\n"
     ]
    }
   ],
   "source": [
    "epoch_train_loss, epoch_val_loss, train_accuracy, val_accuracy = run_SGD()\n",
    "\n",
    "for i in np.arange(5):\n",
    "    print(\"Epoch {} |  Training Loss: {}  Training ACC: {}\".format(i,epoch_train_loss[i],train_accuracy[i]))\n",
    "    print(\"         |  Validation Loss: {}  Validation ACC: {}\".format(i,epoch_val_loss[i],val_accuracy[i]))\n",
    "    print(\"\")"
   ]
  },
  {
   "cell_type": "markdown",
   "metadata": {},
   "source": [
    "# Part 4: Analysis"
   ]
  },
  {
   "cell_type": "markdown",
   "metadata": {},
   "source": [
    "## Question 7."
   ]
  },
  {
   "cell_type": "markdown",
   "metadata": {},
   "source": [
    "### 1."
   ]
  },
  {
   "cell_type": "code",
   "execution_count": 25,
   "metadata": {},
   "outputs": [
    {
     "data": {
      "image/png": "[encoded data removed]",
      "text/plain": [
       "<Figure size 432x288 with 1 Axes>"
      ]
     },
     "metadata": {
      "needs_background": "light"
     },
     "output_type": "display_data"
    }
   ],
   "source": [
    "plt.plot(epoch_train_loss, label='Training')\n",
    "plt.plot(epoch_val_loss, label='Validation')\n",
    "plt.title('Loss: Training and Validation')\n",
    "plt.xlabel('epochs')\n",
    "plt.ylabel('Loss')\n",
    "plt.legend()\n",
    "plt.show()"
   ]
  },
  {
   "cell_type": "code",
   "execution_count": 26,
   "metadata": {},
   "outputs": [
    {
     "data": {
      "image/png": "[encoded data removed]",
      "text/plain": [
       "<Figure size 432x288 with 1 Axes>"
      ]
     },
     "metadata": {
      "needs_background": "light"
     },
     "output_type": "display_data"
    }
   ],
   "source": [
    "plt.plot(train_accuracy, label='Training')\n",
    "plt.plot(val_accuracy, label='Validation')\n",
    "plt.title('Accuracy: Training and Validation')\n",
    "plt.xlabel('epochs')\n",
    "plt.ylabel('Accuracy') \n",
    "plt.legend()\n",
    "plt.show()"
   ]
  },
  {
   "cell_type": "markdown",
   "metadata": {},
   "source": [
    "### 2."
   ]
  },
  {
   "cell_type": "code",
   "execution_count": 60,
   "metadata": {},
   "outputs": [],
   "source": [
    "epoch_train_loss, epoch_val_loss, train_accuracy, val_accuracy = {}, {}, {}, {}\n",
    "t = np.arange(1,4)\n",
    "for run in t:\n",
    "    epoch_train_loss[run], epoch_val_loss[run], train_accuracy[run], val_accuracy[run] = run_SGD()"
   ]
  },
  {
   "cell_type": "code",
   "execution_count": 61,
   "metadata": {},
   "outputs": [],
   "source": [
    "epoch_train_loss = np.array(list(epoch_train_loss.values()))\n",
    "epoch_val_loss = np.array(list(epoch_val_loss.values()))\n",
    "train_accuracy = np.array(list(train_accuracy.values()))\n",
    "val_accuracy = np.array(list(val_accuracy.values()))"
   ]
  },
  {
   "cell_type": "code",
   "execution_count": 62,
   "metadata": {},
   "outputs": [
    {
     "data": {
      "text/plain": [
       "(3, 5)"
      ]
     },
     "execution_count": 62,
     "metadata": {},
     "output_type": "execute_result"
    }
   ],
   "source": [
    "epoch_train_loss.shape"
   ]
  },
  {
   "cell_type": "code",
   "execution_count": 65,
   "metadata": {},
   "outputs": [
    {
     "data": {
      "image/png": "[encoded data removed]",
      "text/plain": [
       "<Figure size 432x288 with 1 Axes>"
      ]
     },
     "metadata": {
      "needs_background": "light"
     },
     "output_type": "display_data"
    }
   ],
   "source": [
    "mu1 = epoch_train_loss.mean(axis=0)\n",
    "sigma1 = epoch_train_loss.std(axis=0)\n",
    "mu2 = epoch_val_loss.mean(axis=0)\n",
    "sigma2 = epoch_val_loss.std(axis=0)\n",
    "t1 = np.arange(1,6)\n",
    "\n",
    "fig, ax = plt.subplots(1)\n",
    "ax.plot(t1, mu1, lw=2, label='Training', color='blue')\n",
    "ax.plot(t1, mu2, lw=2, label='Validation', color='yellow')\n",
    "ax.fill_between(t1, mu1+sigma1, mu1-sigma1, facecolor='blue', alpha=0.5)\n",
    "ax.fill_between(t1, mu2+sigma2, mu2-sigma2, facecolor='yellow', alpha=0.5)\n",
    "ax.set_title(r'Training and Validation loss $\\mu$ and $\\pm \\sigma$')\n",
    "ax.legend(loc='upper left')\n",
    "ax.set_xlabel('epochs')\n",
    "ax.set_ylabel('Loss')\n",
    "ax.grid()"
   ]
  },
  {
   "cell_type": "code",
   "execution_count": 67,
   "metadata": {},
   "outputs": [
    {
     "data": {
      "image/png": "[encoded data removed]",
      "text/plain": [
       "<Figure size 432x288 with 1 Axes>"
      ]
     },
     "metadata": {
      "needs_background": "light"
     },
     "output_type": "display_data"
    }
   ],
   "source": [
    "mu1 = train_accuracy.mean(axis=0)\n",
    "sigma1 = train_accuracy.std(axis=0)\n",
    "mu2 = val_accuracy.mean(axis=0)\n",
    "sigma2 = val_accuracy.std(axis=0)\n",
    "\n",
    "fig, ax = plt.subplots(1)\n",
    "ax.plot(t1, mu1, lw=2, label='Training', color='blue')\n",
    "ax.plot(t1, mu2, lw=2, label='Validation', color='yellow')\n",
    "ax.fill_between(t1, mu1+sigma1, mu1-sigma1, facecolor='blue', alpha=0.5)\n",
    "ax.fill_between(t1, mu2+sigma2, mu2-sigma2, facecolor='yellow', alpha=0.5)\n",
    "ax.set_title(r'Training and Validation accuracy $\\mu$ and $\\pm \\sigma$')\n",
    "ax.legend(loc='upper left')\n",
    "ax.set_xlabel('epochs')\n",
    "ax.set_ylabel('Accuracy')\n",
    "ax.grid()"
   ]
  },
  {
   "cell_type": "markdown",
   "metadata": {},
   "source": [
    "### 3."
   ]
  },
  {
   "cell_type": "code",
   "execution_count": 31,
   "metadata": {},
   "outputs": [],
   "source": [
    "epoch_train_loss, epoch_val_loss, train_accuracy, val_accuracy = {}, {}, {}, {}\n",
    "learning_rates = [\"0.001\", \"0.003\", \"0.01\", \"0.03\"]\n",
    "for lr in learning_rates:\n",
    "    epoch_train_loss[lr], epoch_val_loss[lr], train_accuracy[lr], val_accuracy[lr] = run_SGD(learning_rate=float(lr))"
   ]
  },
  {
   "cell_type": "code",
   "execution_count": 32,
   "metadata": {},
   "outputs": [],
   "source": [
    "epoch_train_loss = np.array(list(epoch_train_loss.values()))\n",
    "epoch_val_loss = np.array(list(epoch_val_loss.values()))\n",
    "train_accuracy = np.array(list(train_accuracy.values()))\n",
    "val_accuracy = np.array(list(val_accuracy.values()))"
   ]
  },
  {
   "cell_type": "code",
   "execution_count": 33,
   "metadata": {},
   "outputs": [
    {
     "data": {
      "text/plain": [
       "array([[1.8108828 , 0.61128732, 0.41586221, 0.35907024, 0.3305467 ],\n",
       "       [0.95413488, 0.34055191, 0.29443684, 0.26522321, 0.24044178],\n",
       "       [0.53157472, 0.2508248 , 0.18716669, 0.14735335, 0.12079287],\n",
       "       [0.34497763, 0.13611664, 0.09060553, 0.06650653, 0.05073452]])"
      ]
     },
     "execution_count": 33,
     "metadata": {},
     "output_type": "execute_result"
    }
   ],
   "source": [
    "epoch_train_loss"
   ]
  },
  {
   "cell_type": "code",
   "execution_count": 34,
   "metadata": {},
   "outputs": [
    {
     "data": {
      "image/png": "[encoded data removed]",
      "text/plain": [
       "<Figure size 432x288 with 1 Axes>"
      ]
     },
     "metadata": {
      "needs_background": "light"
     },
     "output_type": "display_data"
    }
   ],
   "source": [
    "for i in range(len(learning_rates)):\n",
    "    plt.plot(epoch_train_loss[i], label=f'Training with lr= '+learning_rates[i])\n",
    "plt.title('Loss: Training')\n",
    "plt.xlabel('epochs')\n",
    "plt.ylabel('Loss')\n",
    "plt.legend()\n",
    "plt.show()"
   ]
  },
  {
   "cell_type": "code",
   "execution_count": 35,
   "metadata": {},
   "outputs": [
    {
     "data": {
      "image/png": "[encoded data removed]",
      "text/plain": [
       "<Figure size 432x288 with 1 Axes>"
      ]
     },
     "metadata": {
      "needs_background": "light"
     },
     "output_type": "display_data"
    }
   ],
   "source": [
    "for i in range(len(learning_rates)):\n",
    "    plt.plot(epoch_val_loss[i], label=f'Validation with lr= '+learning_rates[i])\n",
    "plt.title('Loss: Validation')\n",
    "plt.xlabel('epochs')\n",
    "plt.ylabel('Loss')\n",
    "plt.legend()\n",
    "plt.show()"
   ]
  },
  {
   "cell_type": "markdown",
   "metadata": {},
   "source": [
    "### 4."
   ]
  },
  {
   "cell_type": "code",
   "execution_count": 36,
   "metadata": {},
   "outputs": [],
   "source": [
    "(xtrain, ytrain), (xtest, ytest), num_cls = load_mnist(final=True)"
   ]
  },
  {
   "cell_type": "code",
   "execution_count": 37,
   "metadata": {},
   "outputs": [],
   "source": [
    "xtrain_norm = (xtrain/np.max(xtrain))\n",
    "xtest_norm = (xtest/np.max(xtrain))\n",
    "learning_rate = 0.03"
   ]
  },
  {
   "cell_type": "code",
   "execution_count": 38,
   "metadata": {},
   "outputs": [],
   "source": [
    "# Xavier’s initialization\n",
    "w = np.random.rand(300,xtrain[0].size+1)*np.sqrt(1/(728+300))\n",
    "v = np.random.rand(num_cls,300+1)*np.sqrt(1/(300+10))\n",
    "\n",
    "for epoch in np.arange(5): \n",
    "    for i in np.arange(xtrain_norm.shape[0]):\n",
    "        x = xtrain_norm[i]\n",
    "        digit = ytrain[i]\n",
    "        x = np.append(x, 1)\n",
    "        y,h,k = forward_pass(w,v,x)\n",
    "        loss_sample, grad_loss = CEloss(y, digit)\n",
    "        grad_w, grad_v = backward_pass(grad_loss,h,v,k,x)\n",
    "        #weights update\n",
    "        w = w - learning_rate*grad_w\n",
    "        v = v - learning_rate*grad_v\n",
    "\n",
    "train_pred = []\n",
    "test_pred = []\n",
    "train_loss = []\n",
    "test_loss = []\n",
    "\n",
    "for i in np.arange(xtrain_norm.shape[0]):\n",
    "    x = xtrain_norm[i]\n",
    "    digit = ytrain[i]\n",
    "    x = np.append(x, 1)\n",
    "    y,h,k = forward_pass(w,v,x)\n",
    "    train_pred.append(np.argmax(y))\n",
    "    loss_sample, grad_loss = CEloss(y, digit)\n",
    "    train_loss.append(loss_sample)\n",
    "    \n",
    "for i in np.arange(xtest_norm.shape[0]):\n",
    "    x = xtest_norm[i]\n",
    "    digit = ytest[i]\n",
    "    x = np.append(x, 1)\n",
    "    y,h,k = forward_pass(w,v,x)\n",
    "    test_pred.append(np.argmax(y))\n",
    "    loss_sample, grad_loss = CEloss(y, digit)\n",
    "    test_loss.append(loss_sample)\n",
    "\n",
    "train_loss = np.sum(train_loss)/(xtrain_norm.shape[0])\n",
    "test_loss = np.sum(test_loss)/(xtest_norm.shape[0])\n",
    "\n",
    "train_acc = (np.array(train_pred) == ytrain).mean() \n",
    "test_acc = (np.array(test_pred) == ytest).mean()"
   ]
  },
  {
   "cell_type": "code",
   "execution_count": 39,
   "metadata": {},
   "outputs": [
    {
     "data": {
      "text/plain": [
       "(0.0425528060001447, 0.07912055184606064, 0.9869833333333333, 0.9754)"
      ]
     },
     "execution_count": 39,
     "metadata": {},
     "output_type": "execute_result"
    }
   ],
   "source": [
    "train_loss,test_loss,train_acc,test_acc"
   ]
  },
  {
   "cell_type": "markdown",
   "metadata": {},
   "source": [
    "## Question 6*."
   ]
  },
  {
   "cell_type": "code",
   "execution_count": 68,
   "metadata": {},
   "outputs": [],
   "source": [
    "(xtrain, ytrain), (xval, yval), num_cls = load_mnist()"
   ]
  },
  {
   "cell_type": "code",
   "execution_count": 69,
   "metadata": {},
   "outputs": [],
   "source": [
    "#normalize\n",
    "xtrain_norm = xtrain.astype(np.float32)/255\n",
    "xval_norm = xval.astype(np.float32)/255"
   ]
  },
  {
   "cell_type": "code",
   "execution_count": 70,
   "metadata": {},
   "outputs": [],
   "source": [
    "batch_size = 32\n",
    "n_batches = math.ceil(xtrain_norm.shape[0]/batch_size)\n",
    "def get_batch(i,batch_size,xtrain_norm,ytrain):\n",
    "    if i==n_batches-1:\n",
    "        x_batched = xtrain_norm[i*batch_size:]\n",
    "        y_batched = ytrain[i*batch_size:]\n",
    "    else:\n",
    "        x_batched = xtrain_norm[i*batch_size:(i+1)*batch_size]\n",
    "        y_batched = ytrain[i*batch_size:(i+1)*batch_size]\n",
    "    return x_batched, y_batched"
   ]
  },
  {
   "cell_type": "code",
   "execution_count": 71,
   "metadata": {},
   "outputs": [],
   "source": [
    "def softmax(x):\n",
    "    \"\"\"Compute softmax values for each sets of scores in x.\"\"\"\n",
    "    return np.exp(x)/np.sum(np.exp(x),axis=1).reshape(-1,1)"
   ]
  },
  {
   "cell_type": "code",
   "execution_count": 72,
   "metadata": {},
   "outputs": [],
   "source": [
    "def CEloss_batch(x,y):\n",
    "    y_onehot = np.eye(x.shape[1])[y]\n",
    "    loss = - np.sum(np.log(np.sum(np.multiply(x,y_onehot), axis = 1)))/x.shape[0]\n",
    "    grad_loss = (x-y_onehot)/x.shape[0] # derviative for softmax\n",
    "    return loss, grad_loss"
   ]
  },
  {
   "cell_type": "code",
   "execution_count": 76,
   "metadata": {},
   "outputs": [
    {
     "name": "stderr",
     "output_type": "stream",
     "text": [
      "C:\\Users\\Admin\\Anaconda3\\envs\\tf1\\lib\\site-packages\\ipykernel_launcher.py:3: RuntimeWarning: invalid value encountered in double_scalars\n",
      "  This is separate from the ipykernel package so we can avoid doing imports until\n"
     ]
    },
    {
     "name": "stdout",
     "output_type": "stream",
     "text": [
      "Epoch 0 |   Training Loss: 2.299043421263974   Training ACC: 0.11887272727272727\n",
      "        |   Validation Loss: 0  Validation ACC: 0.5709259725141307\n",
      "Epoch 1 |   Training Loss: 2.2901051602915787   Training ACC: 0.1824727272727273\n",
      "        |   Validation Loss: 1  Validation ACC: 0.5709259725141307\n",
      "Epoch 2 |   Training Loss: 2.2756355263680494   Training ACC: 0.27185454545454546\n",
      "        |   Validation Loss: 2  Validation ACC: 0.5709259725141307\n",
      "Epoch 3 |   Training Loss: 2.243102051924547   Training ACC: 0.35196363636363637\n",
      "        |   Validation Loss: 3  Validation ACC: 0.5709259725141307\n",
      "Epoch 4 |   Training Loss: 2.163833985131914   Training ACC: 0.4379818181818182\n",
      "        |   Validation Loss: 4  Validation ACC: 0.5709259725141307\n",
      "Epoch 5 |   Training Loss: 2.0145178984652903   Training ACC: 0.5211818181818182\n",
      "        |   Validation Loss: 5  Validation ACC: 0.5709259725141307\n",
      "Epoch 6 |   Training Loss: 1.8112480511960851   Training ACC: 0.5796909090909091\n",
      "        |   Validation Loss: 6  Validation ACC: 0.5709259725141307\n",
      "Epoch 7 |   Training Loss: 1.5919628963881576   Training ACC: 0.6281636363636364\n",
      "        |   Validation Loss: 7  Validation ACC: 0.5709259725141307\n",
      "Epoch 8 |   Training Loss: 1.3875954904766858   Training ACC: 0.6732545454545454\n",
      "        |   Validation Loss: 8  Validation ACC: 0.5709259725141307\n",
      "Epoch 9 |   Training Loss: 1.2175269135265714   Training ACC: 0.7133272727272727\n",
      "        |   Validation Loss: 9  Validation ACC: 0.5709259725141307\n",
      "Epoch 10 |   Training Loss: 1.0817139880099826   Training ACC: 0.7485636363636363\n",
      "        |   Validation Loss: 10  Validation ACC: 0.5709259725141307\n",
      "Epoch 11 |   Training Loss: 0.9730309775371596   Training ACC: 0.7747818181818181\n",
      "        |   Validation Loss: 11  Validation ACC: 0.5709259725141307\n",
      "Epoch 12 |   Training Loss: 0.8855602618575906   Training ACC: 0.7939454545454545\n",
      "        |   Validation Loss: 12  Validation ACC: 0.5709259725141307\n",
      "Epoch 13 |   Training Loss: 0.8145584059304114   Training ACC: 0.8098727272727273\n",
      "        |   Validation Loss: 13  Validation ACC: 0.5709259725141307\n",
      "Epoch 14 |   Training Loss: 0.7562424411938676   Training ACC: 0.8235272727272728\n",
      "        |   Validation Loss: 14  Validation ACC: 0.5709259725141307\n",
      "Epoch 15 |   Training Loss: 0.7077250165161411   Training ACC: 0.8336363636363636\n",
      "        |   Validation Loss: 15  Validation ACC: 0.5709259725141307\n",
      "Epoch 16 |   Training Loss: 0.6668348566343798   Training ACC: 0.8422\n",
      "        |   Validation Loss: 16  Validation ACC: 0.5709259725141307\n",
      "Epoch 17 |   Training Loss: 0.6319496154079836   Training ACC: 0.8491818181818181\n",
      "        |   Validation Loss: 17  Validation ACC: 0.5709259725141307\n",
      "Epoch 18 |   Training Loss: 0.6018590514463338   Training ACC: 0.8548\n",
      "        |   Validation Loss: 18  Validation ACC: 0.5709259725141307\n",
      "Epoch 19 |   Training Loss: 0.5756550283412359   Training ACC: 0.8602545454545455\n",
      "        |   Validation Loss: 19  Validation ACC: 0.5709259725141307\n"
     ]
    }
   ],
   "source": [
    "# Xavier’s initialization\n",
    "w = np.random.rand(30,xtrain_norm[0].size+1)*np.sqrt(1/(728+30))\n",
    "v = np.random.rand(10,30+1)*np.sqrt(1/(30+10))\n",
    "train_epoch_loss = []\n",
    "train_accuracy = []\n",
    "val_epoch_loss = []\n",
    "val_accuracy = []\n",
    "for epoch in np.arange(20): \n",
    "    train_loss = []\n",
    "    train_y_pred = []\n",
    "    val_loss = []\n",
    "    val_y_pred = []\n",
    "    for batch_num in np.arange(n_batches):\n",
    "        x_batch, digits_batch = get_batch(batch_num,batch_size,xtrain_norm,ytrain)\n",
    "        x_batch = np.append(x_batch, np.ones((x_batch.shape[0],1)),axis=1)\n",
    "        \n",
    "        #forward\n",
    "        k = np.matmul(x_batch,w.T) #\n",
    "        h = sigmoid(k) #\n",
    "        h = np.hstack([h, np.ones((h.shape[0],1))])\n",
    "        o = np.matmul(h,v.T) #\n",
    "        y = softmax(o) #\n",
    "        train_y_pred.extend(np.argmax(y,axis=1))\n",
    "        \n",
    "        #loss\n",
    "        loss_sample, grad_loss = CEloss_batch(y, digits_batch)\n",
    "        train_loss.append(loss_sample) #\n",
    "\n",
    "        #backward\n",
    "        grad_o = grad_loss\n",
    "        grad_v = np.matmul(grad_o.T, h)/x_batch.shape[0] #\n",
    "        grad_h = np.matmul(grad_o, v)\n",
    "        grad_h = grad_h[:,:-1]\n",
    "        grad_k = grad_h*sigmoid(k)*(1 - sigmoid(k)) #\n",
    "        grad_w = np.matmul(grad_k.T,x_batch)/x_batch.shape[0] #\n",
    "\n",
    "        #weights update\n",
    "        w -= 0.1*grad_w\n",
    "        v -= 0.1*grad_v\n",
    "        \n",
    "    for batch_num in np.arange(n_batches):\n",
    "        x_batch, digits_batch = get_batch(batch_num,batch_size,xval_norm,yval)\n",
    "        x_batch = np.append(x_batch, np.ones((x_batch.shape[0],1)),axis=1)\n",
    "        \n",
    "        #forward\n",
    "        k = np.matmul(x_batch,w.T) #\n",
    "        h = sigmoid(k) #\n",
    "        h = np.hstack([h, np.ones((h.shape[0],1))])\n",
    "        o = np.matmul(h,v.T) #\n",
    "        y = softmax(o) #\n",
    "        val_y_pred.extend(np.argmax(y,axis=1))\n",
    "        \n",
    "        #loss\n",
    "        loss_sample, grad_loss = CEloss_batch(y, digits_batch)\n",
    "        val_loss.append(loss_sample) #\n",
    "        \n",
    "    train_ep_loss = np.sum(train_loss)/n_batches\n",
    "    train_epoch_loss.append(train_ep_loss)\n",
    "    val_ep_loss = np.sum(loss)/n_batches\n",
    "    val_epoch_loss.append(val_ep_loss)\n",
    "    \n",
    "    train_acc = (np.array(train_y_pred) == ytrain).mean()\n",
    "    train_accuracy.append(train_acc)\n",
    "    val_acc = (np.array(val_y_pred) == yval).mean()\n",
    "    val_accuracy.append(val_acc)\n",
    "    \n",
    "    print(\"Epoch {} |   Training Loss: {}   Training ACC: {}\".format(epoch,train_ep_loss,train_acc))\n",
    "    print(\"        |   Validation Loss: {}  Validation ACC: {}\".format(epoch,val_ep_loss,val_acc))"
   ]
  },
  {
   "cell_type": "code",
   "execution_count": 78,
   "metadata": {},
   "outputs": [
    {
     "data": {
      "image/png": "[encoded data removed]",
      "text/plain": [
       "<Figure size 432x288 with 1 Axes>"
      ]
     },
     "metadata": {
      "needs_background": "light"
     },
     "output_type": "display_data"
    }
   ],
   "source": [
    "plt.plot(train_epoch_loss, label='Training')\n",
    "plt.plot(val_epoch_loss, label='Validation')\n",
    "plt.title('Loss: Training and Validation')\n",
    "plt.xlabel('epochs')\n",
    "plt.ylabel('Loss')\n",
    "plt.legend()\n",
    "plt.show()"
   ]
  },
  {
   "cell_type": "code",
   "execution_count": 79,
   "metadata": {},
   "outputs": [
    {
     "data": {
      "image/png": "[encoded data removed]",
      "text/plain": [
       "<Figure size 432x288 with 1 Axes>"
      ]
     },
     "metadata": {
      "needs_background": "light"
     },
     "output_type": "display_data"
    }
   ],
   "source": [
    "plt.plot(train_accuracy, label='Training')\n",
    "plt.plot(val_accuracy, label='Validation')\n",
    "plt.title('Accuracy: Training and Validation')\n",
    "plt.xlabel('epochs')\n",
    "plt.ylabel('Accuracy')\n",
    "plt.legend()\n",
    "plt.show()"
   ]
  },
  {
   "cell_type": "code",
   "execution_count": null,
   "metadata": {},
   "outputs": [],
   "source": []
  }
 ],
 "metadata": {
  "kernelspec": {
   "display_name": "Python (tf1)",
   "language": "python",
   "name": "tf1"
  },
  "language_info": {
   "codemirror_mode": {
    "name": "ipython",
    "version": 3
   },
   "file_extension": ".py",
   "mimetype": "text/x-python",
   "name": "python",
   "nbconvert_exporter": "python",
   "pygments_lexer": "ipython3",
   "version": "3.7.7"
  }
 },
 "nbformat": 4,
 "nbformat_minor": 5
}
